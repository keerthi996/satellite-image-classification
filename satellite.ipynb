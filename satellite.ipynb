{
 "cells": [
  {
   "cell_type": "code",
   "execution_count": 2,
   "metadata": {},
   "outputs": [],
   "source": [
    "import tensorflow as tf\n",
    "from tensorflow.keras import layers\n",
    "\n"
   ]
  },
  {
   "cell_type": "code",
   "execution_count": 6,
   "metadata": {},
   "outputs": [
    {
     "name": "stdout",
     "output_type": "stream",
     "text": [
      "Found 5631 files belonging to 4 classes.\n"
     ]
    }
   ],
   "source": [
    "data=tf.keras.utils.image_dataset_from_directory(\n",
    "    \"./satellite data\",\n",
    "    image_size=(32,32),\n",
    "    color_mode=\"rgb\",\n",
    "    batch_size=5631\n",
    ")"
   ]
  },
  {
   "cell_type": "code",
   "execution_count": 7,
   "metadata": {},
   "outputs": [
    {
     "name": "stdout",
     "output_type": "stream",
     "text": [
      "(5631, 32, 32, 3) (5631,)\n"
     ]
    }
   ],
   "source": [
    "for features,labels in data:\n",
    "    print(features.shape,labels.shape)\n",
    "    break"
   ]
  },
  {
   "cell_type": "code",
   "execution_count": 8,
   "metadata": {},
   "outputs": [],
   "source": [
    "model=tf.keras.Sequential([\n",
    "    layers.Conv2D(9,3,input_shape=(32,32,3),activation=\"relu\"),\n",
    "    layers.MaxPool2D(),\n",
    "    layers.Conv2D(18,3,activation=\"relu\"),\n",
    "    layers.MaxPool2D(),\n",
    "    layers.Conv2D(36,3,activation=\"relu\"),\n",
    "    layers.MaxPool2D(),\n",
    "    layers.Flatten(),\n",
    "    layers.Dense(4),\n",
    "    layers.Activation(\"softmax\")\n",
    "])"
   ]
  },
  {
   "cell_type": "code",
   "execution_count": 9,
   "metadata": {},
   "outputs": [
    {
     "name": "stdout",
     "output_type": "stream",
     "text": [
      "Model: \"sequential\"\n",
      "_________________________________________________________________\n",
      " Layer (type)                Output Shape              Param #   \n",
      "=================================================================\n",
      " conv2d (Conv2D)             (None, 30, 30, 9)         252       \n",
      "                                                                 \n",
      " max_pooling2d (MaxPooling2D  (None, 15, 15, 9)        0         \n",
      " )                                                               \n",
      "                                                                 \n",
      " conv2d_1 (Conv2D)           (None, 13, 13, 18)        1476      \n",
      "                                                                 \n",
      " max_pooling2d_1 (MaxPooling  (None, 6, 6, 18)         0         \n",
      " 2D)                                                             \n",
      "                                                                 \n",
      " conv2d_2 (Conv2D)           (None, 4, 4, 36)          5868      \n",
      "                                                                 \n",
      " max_pooling2d_2 (MaxPooling  (None, 2, 2, 36)         0         \n",
      " 2D)                                                             \n",
      "                                                                 \n",
      " flatten (Flatten)           (None, 144)               0         \n",
      "                                                                 \n",
      " dense (Dense)               (None, 4)                 580       \n",
      "                                                                 \n",
      " activation (Activation)     (None, 4)                 0         \n",
      "                                                                 \n",
      "=================================================================\n",
      "Total params: 8,176\n",
      "Trainable params: 8,176\n",
      "Non-trainable params: 0\n",
      "_________________________________________________________________\n"
     ]
    }
   ],
   "source": [
    "model.summary()"
   ]
  },
  {
   "cell_type": "code",
   "execution_count": 12,
   "metadata": {},
   "outputs": [],
   "source": [
    "model.compile(\n",
    "    optimizer=tf.keras.optimizers.Adam(),\n",
    "    loss=tf.keras.losses.categorical_crossentropy,\n",
    "    metrics=[\"accuracy\"]\n",
    ")"
   ]
  },
  {
   "cell_type": "code",
   "execution_count": 13,
   "metadata": {},
   "outputs": [
    {
     "name": "stdout",
     "output_type": "stream",
     "text": [
      "Epoch 1/10\n",
      "176/176 [==============================] - 5s 18ms/step - loss: 0.1797 - accuracy: 0.9210\n",
      "Epoch 2/10\n",
      "176/176 [==============================] - 3s 17ms/step - loss: 0.1681 - accuracy: 0.9284\n",
      "Epoch 3/10\n",
      "176/176 [==============================] - 3s 17ms/step - loss: 0.1573 - accuracy: 0.9338\n",
      "Epoch 4/10\n",
      "176/176 [==============================] - 3s 18ms/step - loss: 0.1723 - accuracy: 0.9297\n",
      "Epoch 5/10\n",
      "176/176 [==============================] - 3s 18ms/step - loss: 0.1514 - accuracy: 0.9362\n",
      "Epoch 6/10\n",
      "176/176 [==============================] - 3s 18ms/step - loss: 0.1531 - accuracy: 0.9332\n",
      "Epoch 7/10\n",
      "176/176 [==============================] - 3s 19ms/step - loss: 0.1525 - accuracy: 0.9396\n",
      "Epoch 8/10\n",
      "176/176 [==============================] - 3s 18ms/step - loss: 0.1483 - accuracy: 0.9400\n",
      "Epoch 9/10\n",
      "176/176 [==============================] - 3s 18ms/step - loss: 0.1418 - accuracy: 0.9430\n",
      "Epoch 10/10\n",
      "176/176 [==============================] - 3s 20ms/step - loss: 0.1414 - accuracy: 0.9407\n"
     ]
    }
   ],
   "source": [
    "for features,labels in data:\n",
    "    features=tf.divide(features,255)\n",
    "    labels=tf.one_hot(labels,4)\n",
    "    record=model.fit(features,labels,epochs=10)"
   ]
  },
  {
   "cell_type": "code",
   "execution_count": 14,
   "metadata": {},
   "outputs": [],
   "source": [
    "model.save(\"./trained satellite model.h5\",save_format=\"h5\")"
   ]
  }
 ],
 "metadata": {
  "kernelspec": {
   "display_name": "Python 3",
   "language": "python",
   "name": "python3"
  },
  "language_info": {
   "codemirror_mode": {
    "name": "ipython",
    "version": 3
   },
   "file_extension": ".py",
   "mimetype": "text/x-python",
   "name": "python",
   "nbconvert_exporter": "python",
   "pygments_lexer": "ipython3",
   "version": "3.10.8 (tags/v3.10.8:aaaf517, Oct 11 2022, 16:50:30) [MSC v.1933 64 bit (AMD64)]"
  },
  "orig_nbformat": 4,
  "vscode": {
   "interpreter": {
    "hash": "459bea7793dc270424601b6d07d29d799e7fee61c18efecc397f4fd6c45bd475"
   }
  }
 },
 "nbformat": 4,
 "nbformat_minor": 2
}
