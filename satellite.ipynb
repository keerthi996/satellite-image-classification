{
 "cells": [
  {
   "cell_type": "code",
   "execution_count": 1,
   "metadata": {},
   "outputs": [],
   "source": [
    "import tensorflow as tf\n",
    "from tensorflow.keras import layers\n",
    "from PIL import Image\n",
    "\n"
   ]
  },
  {
   "cell_type": "code",
   "execution_count": 2,
   "metadata": {},
   "outputs": [
    {
     "data": {
      "text/plain": [
       "(256, 256)"
      ]
     },
     "execution_count": 2,
     "metadata": {},
     "output_type": "execute_result"
    }
   ],
   "source": [
    "img=Image.open(\"./satellite data/cloudy/train_12.jpg\")\n",
    "img.size"
   ]
  },
  {
   "cell_type": "code",
   "execution_count": 3,
   "metadata": {
    "tags": []
   },
   "outputs": [
    {
     "name": "stdout",
     "output_type": "stream",
     "text": [
      "Found 5631 files belonging to 4 classes.\n"
     ]
    }
   ],
   "source": [
    "data=tf.keras.utils.image_dataset_from_directory(\n",
    "    \"./satellite data\",\n",
    "    image_size=(64,64),\n",
    "    color_mode=\"rgb\",\n",
    "    batch_size=5631\n",
    ")"
   ]
  },
  {
   "cell_type": "code",
   "execution_count": 4,
   "metadata": {},
   "outputs": [
    {
     "name": "stdout",
     "output_type": "stream",
     "text": [
      "(5631, 64, 64, 3) (5631,)\n"
     ]
    }
   ],
   "source": [
    "for features,labels in data:\n",
    "    print(features.shape,labels.shape)\n",
    "    break"
   ]
  },
  {
   "cell_type": "code",
   "execution_count": 5,
   "metadata": {},
   "outputs": [],
   "source": [
    "model=tf.keras.Sequential([\n",
    "    layers.Conv2D(9,3,input_shape=(64,64,3),activation=\"relu\"),\n",
    "    layers.MaxPool2D(),\n",
    "    layers.Conv2D(18,3,activation=\"relu\"),\n",
    "    layers.MaxPool2D(),\n",
    "    layers.Conv2D(36,3,activation=\"relu\"),\n",
    "    layers.MaxPool2D(),\n",
    "    layers.Flatten(),\n",
    "    layers.Dense(4),\n",
    "    layers.Activation(\"softmax\")\n",
    "])"
   ]
  },
  {
   "cell_type": "code",
   "execution_count": 6,
   "metadata": {},
   "outputs": [
    {
     "name": "stdout",
     "output_type": "stream",
     "text": [
      "Model: \"sequential\"\n",
      "_________________________________________________________________\n",
      " Layer (type)                Output Shape              Param #   \n",
      "=================================================================\n",
      " conv2d (Conv2D)             (None, 62, 62, 9)         252       \n",
      "                                                                 \n",
      " max_pooling2d (MaxPooling2D  (None, 31, 31, 9)        0         \n",
      " )                                                               \n",
      "                                                                 \n",
      " conv2d_1 (Conv2D)           (None, 29, 29, 18)        1476      \n",
      "                                                                 \n",
      " max_pooling2d_1 (MaxPooling  (None, 14, 14, 18)       0         \n",
      " 2D)                                                             \n",
      "                                                                 \n",
      " conv2d_2 (Conv2D)           (None, 12, 12, 36)        5868      \n",
      "                                                                 \n",
      " max_pooling2d_2 (MaxPooling  (None, 6, 6, 36)         0         \n",
      " 2D)                                                             \n",
      "                                                                 \n",
      " flatten (Flatten)           (None, 1296)              0         \n",
      "                                                                 \n",
      " dense (Dense)               (None, 4)                 5188      \n",
      "                                                                 \n",
      " activation (Activation)     (None, 4)                 0         \n",
      "                                                                 \n",
      "=================================================================\n",
      "Total params: 12,784\n",
      "Trainable params: 12,784\n",
      "Non-trainable params: 0\n",
      "_________________________________________________________________\n"
     ]
    }
   ],
   "source": [
    "model.summary()"
   ]
  },
  {
   "cell_type": "code",
   "execution_count": 7,
   "metadata": {},
   "outputs": [],
   "source": [
    "model.compile(\n",
    "    optimizer=tf.keras.optimizers.Adam(),\n",
    "    loss=tf.keras.losses.categorical_crossentropy,\n",
    "    metrics=[\"accuracy\"]\n",
    ")"
   ]
  },
  {
   "cell_type": "code",
   "execution_count": 13,
   "metadata": {},
   "outputs": [
    {
     "name": "stdout",
     "output_type": "stream",
     "text": [
      "Epoch 1/10\n",
      "176/176 [==============================] - 11s 65ms/step - loss: 0.0247 - accuracy: 0.9902\n",
      "Epoch 2/10\n",
      "176/176 [==============================] - 11s 65ms/step - loss: 0.0349 - accuracy: 0.9865\n",
      "Epoch 3/10\n",
      "176/176 [==============================] - 12s 66ms/step - loss: 0.0328 - accuracy: 0.9872\n",
      "Epoch 4/10\n",
      "176/176 [==============================] - 12s 66ms/step - loss: 0.0267 - accuracy: 0.9902\n",
      "Epoch 5/10\n",
      "176/176 [==============================] - 12s 68ms/step - loss: 0.0258 - accuracy: 0.9909\n",
      "Epoch 6/10\n",
      "176/176 [==============================] - 12s 67ms/step - loss: 0.0221 - accuracy: 0.9913\n",
      "Epoch 7/10\n",
      "176/176 [==============================] - 12s 67ms/step - loss: 0.0189 - accuracy: 0.9929\n",
      "Epoch 8/10\n",
      "176/176 [==============================] - 12s 68ms/step - loss: 0.0202 - accuracy: 0.9925\n",
      "Epoch 9/10\n",
      "176/176 [==============================] - 12s 66ms/step - loss: 0.0230 - accuracy: 0.9922\n",
      "Epoch 10/10\n",
      "176/176 [==============================] - 12s 66ms/step - loss: 0.0169 - accuracy: 0.9943\n"
     ]
    }
   ],
   "source": [
    "for features,labels in data:\n",
    "    features=tf.divide(features,255)\n",
    "    labels=tf.one_hot(labels,4)\n",
    "    record=model.fit(features,labels,epochs=10)"
   ]
  },
  {
   "cell_type": "code",
   "execution_count": 9,
   "metadata": {},
   "outputs": [],
   "source": [
    "model.save(\"./trained satellite model.h5\",save_format=\"h5\")"
   ]
  }
 ],
 "metadata": {
  "kernelspec": {
   "display_name": "Python 3",
   "language": "python",
   "name": "python3"
  },
  "language_info": {
   "codemirror_mode": {
    "name": "ipython",
    "version": 3
   },
   "file_extension": ".py",
   "mimetype": "text/x-python",
   "name": "python",
   "nbconvert_exporter": "python",
   "pygments_lexer": "ipython3",
   "version": "3.10.9"
  },
  "orig_nbformat": 4,
  "vscode": {
   "interpreter": {
    "hash": "459bea7793dc270424601b6d07d29d799e7fee61c18efecc397f4fd6c45bd475"
   }
  }
 },
 "nbformat": 4,
 "nbformat_minor": 2
}
