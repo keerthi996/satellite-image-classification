{
 "cells": [
  {
   "cell_type": "code",
   "execution_count": 1,
   "metadata": {},
   "outputs": [],
   "source": [
    "import tensorflow as tf\n",
    "from PIL import Image"
   ]
  },
  {
   "cell_type": "code",
   "execution_count": 2,
   "metadata": {},
   "outputs": [],
   "source": [
    "model=tf.keras.models.load_model(\"./trained satellite model.h5\")"
   ]
  },
  {
   "cell_type": "code",
   "execution_count": 4,
   "metadata": {},
   "outputs": [
    {
     "data": {
      "image/png": "[encoded data removed]",
      "text/plain": [
       "<PIL.Image.Image image mode=RGB size=32x32>"
      ]
     },
     "execution_count": 4,
     "metadata": {},
     "output_type": "execute_result"
    }
   ],
   "source": [
    "img=Image.open(\"./Capture-1.png\")\n",
    "img=img.resize((32,32))\n",
    "img"
   ]
  },
  {
   "cell_type": "code",
   "execution_count": 5,
   "metadata": {},
   "outputs": [],
   "source": [
    "classes=[\"cloudy\",\"desert\",\"green_area\",\"water\"]"
   ]
  },
  {
   "cell_type": "code",
   "execution_count": 6,
   "metadata": {},
   "outputs": [
    {
     "name": "stdout",
     "output_type": "stream",
     "text": [
      "Water 94 %\n"
     ]
    }
   ],
   "source": [
    "test=tf.reshape(tf.constant(img)/255,(-1,32,32,3))\n",
    "preds=model.predict(test,verbose=False)[0]*100\n",
    "preds=tf.math.round(preds)\n",
    "max=tf.reduce_max(preds)\n",
    "index=int(tf.where(max==preds)[0][0])\n",
    "pred=classes[index]\n",
    "print(pred.title(),int(max),\"%\")\n"
   ]
  }
 ],
 "metadata": {
  "kernelspec": {
   "display_name": "Python 3",
   "language": "python",
   "name": "python3"
  },
  "language_info": {
   "codemirror_mode": {
    "name": "ipython",
    "version": 3
   },
   "file_extension": ".py",
   "mimetype": "text/x-python",
   "name": "python",
   "nbconvert_exporter": "python",
   "pygments_lexer": "ipython3",
   "version": "3.10.9"
  },
  "orig_nbformat": 4,
  "vscode": {
   "interpreter": {
    "hash": "459bea7793dc270424601b6d07d29d799e7fee61c18efecc397f4fd6c45bd475"
   }
  }
 },
 "nbformat": 4,
 "nbformat_minor": 2
}
